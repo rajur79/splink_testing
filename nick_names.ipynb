{
 "cells": [
  {
   "cell_type": "code",
   "execution_count": 6,
   "id": "f3a50f09-2d50-4180-a797-5592080b9f4c",
   "metadata": {},
   "outputs": [
    {
     "name": "stdout",
     "output_type": "stream",
     "text": [
      "Requirement already satisfied: pandas in c:\\users\\administrator\\appdata\\local\\programs\\python\\python311\\lib\\site-packages (2.2.2)"
     ]
    },
    {
     "name": "stderr",
     "output_type": "stream",
     "text": [
      "\n",
      "[notice] A new release of pip is available: 24.0 -> 24.2\n",
      "[notice] To update, run: python.exe -m pip install --upgrade pip\n"
     ]
    },
    {
     "name": "stdout",
     "output_type": "stream",
     "text": [
      "\n",
      "Requirement already satisfied: splink in c:\\users\\administrator\\appdata\\local\\programs\\python\\python311\\lib\\site-packages (4.0.4)\n",
      "Requirement already satisfied: nicknames in c:\\users\\administrator\\appdata\\local\\programs\\python\\python311\\lib\\site-packages (0.1.10)\n",
      "Requirement already satisfied: numpy>=1.23.2 in c:\\users\\administrator\\appdata\\local\\programs\\python\\python311\\lib\\site-packages (from pandas) (2.1.0)\n",
      "Requirement already satisfied: python-dateutil>=2.8.2 in c:\\users\\administrator\\appdata\\local\\programs\\python\\python311\\lib\\site-packages (from pandas) (2.9.0.post0)\n",
      "Requirement already satisfied: pytz>=2020.1 in c:\\users\\administrator\\appdata\\local\\programs\\python\\python311\\lib\\site-packages (from pandas) (2024.1)\n",
      "Requirement already satisfied: tzdata>=2022.7 in c:\\users\\administrator\\appdata\\local\\programs\\python\\python311\\lib\\site-packages (from pandas) (2024.1)\n",
      "Requirement already satisfied: Jinja2>=3.0.3 in c:\\users\\administrator\\appdata\\local\\programs\\python\\python311\\lib\\site-packages (from splink) (3.1.4)\n",
      "Requirement already satisfied: altair<6.0.0,>=5.0.1 in c:\\users\\administrator\\appdata\\local\\programs\\python\\python311\\lib\\site-packages (from splink) (5.4.1)\n",
      "Requirement already satisfied: duckdb>=0.9.2 in c:\\users\\administrator\\appdata\\local\\programs\\python\\python311\\lib\\site-packages (from splink) (1.1.1)\n",
      "Requirement already satisfied: igraph>=0.11.2 in c:\\users\\administrator\\appdata\\local\\programs\\python\\python311\\lib\\site-packages (from splink) (0.11.6)\n",
      "Requirement already satisfied: jsonschema>=3.2 in c:\\users\\administrator\\appdata\\local\\programs\\python\\python311\\lib\\site-packages (from splink) (4.23.0)\n",
      "Requirement already satisfied: sqlglot>=13.0.0 in c:\\users\\administrator\\appdata\\local\\programs\\python\\python311\\lib\\site-packages (from splink) (25.19.0)\n",
      "Requirement already satisfied: narwhals>=1.5.2 in c:\\users\\administrator\\appdata\\local\\programs\\python\\python311\\lib\\site-packages (from altair<6.0.0,>=5.0.1->splink) (1.9.3)\n",
      "Requirement already satisfied: packaging in c:\\users\\administrator\\appdata\\local\\programs\\python\\python311\\lib\\site-packages (from altair<6.0.0,>=5.0.1->splink) (24.1)\n",
      "Requirement already satisfied: typing-extensions>=4.10.0 in c:\\users\\administrator\\appdata\\local\\programs\\python\\python311\\lib\\site-packages (from altair<6.0.0,>=5.0.1->splink) (4.12.2)\n",
      "Requirement already satisfied: texttable>=1.6.2 in c:\\users\\administrator\\appdata\\local\\programs\\python\\python311\\lib\\site-packages (from igraph>=0.11.2->splink) (1.7.0)\n",
      "Requirement already satisfied: MarkupSafe>=2.0 in c:\\users\\administrator\\appdata\\local\\programs\\python\\python311\\lib\\site-packages (from Jinja2>=3.0.3->splink) (2.1.5)\n",
      "Requirement already satisfied: attrs>=22.2.0 in c:\\users\\administrator\\appdata\\local\\programs\\python\\python311\\lib\\site-packages (from jsonschema>=3.2->splink) (24.2.0)\n",
      "Requirement already satisfied: jsonschema-specifications>=2023.03.6 in c:\\users\\administrator\\appdata\\local\\programs\\python\\python311\\lib\\site-packages (from jsonschema>=3.2->splink) (2023.12.1)\n",
      "Requirement already satisfied: referencing>=0.28.4 in c:\\users\\administrator\\appdata\\local\\programs\\python\\python311\\lib\\site-packages (from jsonschema>=3.2->splink) (0.35.1)\n",
      "Requirement already satisfied: rpds-py>=0.7.1 in c:\\users\\administrator\\appdata\\local\\programs\\python\\python311\\lib\\site-packages (from jsonschema>=3.2->splink) (0.20.0)\n",
      "Requirement already satisfied: six>=1.5 in c:\\users\\administrator\\appdata\\local\\programs\\python\\python311\\lib\\site-packages (from python-dateutil>=2.8.2->pandas) (1.16.0)\n"
     ]
    }
   ],
   "source": [
    "!pip install pandas splink nicknames"
   ]
  },
  {
   "cell_type": "code",
   "execution_count": 3,
   "id": "e04098d3-dc69-4806-af93-6b9fc18d6645",
   "metadata": {},
   "outputs": [],
   "source": [
    "import pandas as pd\n",
    "\n",
    "import splink.comparison_library as cl\n",
    "from splink import DuckDBAPI, Linker, SettingsCreator, block_on\n",
    "from nicknames import NickNamer\n",
    "\n",
    "nn = NickNamer()\n",
    "\n",
    "data = [\n",
    "    {\"unique_id\": 1, \"first_name\": \"John\", \"last_name\": \"Smith\"},\n",
    "    {\"unique_id\": 2, \"first_name\": \"John\", \"last_name\": \"Smiths\"},\n",
    "    {\"unique_id\": 3, \"first_name\": \"Johnny\", \"last_name\": \"Smith\"},\n",
    "    {\"unique_id\": 4, \"first_name\": \"Jonnie\", \"last_name\": \"Wilkins\"},\n",
    "    {\"unique_id\": 5, \"first_name\": \"Peter\", \"last_name\": \"Smith\"}\n",
    "]\n",
    "\n",
    "df = pd.DataFrame(data)\n"
   ]
  },
  {
   "cell_type": "code",
   "execution_count": 4,
   "id": "11e3dd40-7604-482d-90d3-b1b7cb04b033",
   "metadata": {},
   "outputs": [],
   "source": [
    "list_first_name_nicks=[]\n",
    "list_last_name_nicks=[]\n",
    "\n",
    "for index, row in df.iterrows():\n",
    "    first_name = row['first_name']\n",
    "    last_name = row['last_name']\n",
    "    nicks = nn.nicknames_of(first_name)\n",
    "    list_first_name_nicks.append(list(nicks))\n",
    "    nicks = nn.nicknames_of(last_name)\n",
    "    list_last_name_nicks.append(list(nicks))\n",
    "\n",
    "df['nicks_first_name'] = list_first_name_nicks\n",
    "df['nicks_last_name'] = list_last_name_nicks"
   ]
  },
  {
   "cell_type": "code",
   "execution_count": 5,
   "id": "329698a2-7937-4615-8c81-31d18786fbf3",
   "metadata": {},
   "outputs": [
    {
     "name": "stdout",
     "output_type": "stream",
     "text": [
      "   unique_id first_name last_name  \\\n",
      "0          1       John     Smith   \n",
      "1          2       John    Smiths   \n",
      "2          3     Johnny     Smith   \n",
      "3          4     Jonnie   Wilkins   \n",
      "4          5      Peter     Smith   \n",
      "\n",
      "                                nicks_first_name nicks_last_name  \n",
      "0  [jonny, johnny, jock, jack, jon, jonnie, ian]        [smitty]  \n",
      "1  [jonny, johnny, jock, jack, jon, jonnie, ian]              []  \n",
      "2                                             []        [smitty]  \n",
      "3                                             []              []  \n",
      "4                                   [pete, pate]        [smitty]  \n"
     ]
    }
   ],
   "source": [
    "print(df)"
   ]
  },
  {
   "cell_type": "code",
   "execution_count": null,
   "id": "45a9093b-cb30-4c93-8672-0284fa129c16",
   "metadata": {},
   "outputs": [],
   "source": [
    "settings = SettingsCreator(\n",
    "    link_type=\"dedupe_only\",\n",
    "    blocking_rules_to_generate_predictions=[\n",
    "        block_on(\"first_name\"),\n",
    "    ],\n",
    "    comparisons=[\n",
    "        cl.ExactMatch(\"first_name\"),\n",
    "        cl.CustomLevel(\"sql_condition\": \"list_contains(nicks_first_name, first_name_r) OR list_contains(nicknames_r, first_name_l)\",\n",
    "                      \"label_for_charts\": \"Nickname match\"),\n",
    "    ]\n",
    ")"
   ]
  }
 ],
 "metadata": {
  "kernelspec": {
   "display_name": "Python 3 (ipykernel)",
   "language": "python",
   "name": "python3"
  },
  "language_info": {
   "codemirror_mode": {
    "name": "ipython",
    "version": 3
   },
   "file_extension": ".py",
   "mimetype": "text/x-python",
   "name": "python",
   "nbconvert_exporter": "python",
   "pygments_lexer": "ipython3",
   "version": "3.11.8"
  }
 },
 "nbformat": 4,
 "nbformat_minor": 5
}
